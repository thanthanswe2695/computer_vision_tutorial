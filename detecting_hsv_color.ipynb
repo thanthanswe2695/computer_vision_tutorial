{
 "cells": [
  {
   "cell_type": "code",
   "execution_count": null,
   "metadata": {},
   "outputs": [],
   "source": [
    "import cv2\n",
    "import numpy as np"
   ]
  },
  {
   "cell_type": "code",
   "execution_count": null,
   "metadata": {},
   "outputs": [],
   "source": [
    "cap=cv2.VideoCapture(0)\n",
    "\n",
    "while True:\n",
    "    _,frame=cap.read()\n",
    "    hsv_frame=cv2.cvtColor(frame,cv2.COLOR_BGR2HSV)\n",
    "    #create low red and high red color\n",
    "    low_red=np.array([161,155,84])\n",
    "    high_red=np.array([179,255,255])\n",
    "    red_mask=cv2.inRange(hsv_frame,low_red,high_red)\n",
    "    red=cv2.bitwise_and(frame,frame,mask=red_mask)\n",
    "    \n",
    "    ##create low blue and high blue color\n",
    "    low_blue=np.array([94,80,2])\n",
    "    high_blue=np.array([126,255,255])\n",
    "    blue_mask=cv2.inRange(hsv_frame,low_blue,high_blue)\n",
    "    blue=cv2.bitwise_and(frame,frame,mask=blue_mask)\n",
    "    \n",
    "    ##create low green and high green color\n",
    "    low_green=np.array([25,52,72])\n",
    "    high_green=np.array([102,255,255])\n",
    "    green_mask=cv2.inRange(hsv_frame,low_green,high_green)\n",
    "    green=cv2.bitwise_and(frame,frame,mask=green_mask)\n",
    "    cv2.imshow(\"Frame\",frame)\n",
    "    cv2.imshow(\"Red\",red)\n",
    "    cv2.imshow(\"Blue\",blue)\n",
    "    cv2.imshow(\"Green\",green)\n",
    "    if cv2.waitKey(1) & 0xFF == ord('q'):\n",
    "        break\n",
    "video_capture.release()\n",
    "cv2.destroyAllWindows()"
   ]
  },
  {
   "cell_type": "code",
   "execution_count": null,
   "metadata": {},
   "outputs": [],
   "source": []
  },
  {
   "cell_type": "code",
   "execution_count": null,
   "metadata": {},
   "outputs": [],
   "source": []
  },
  {
   "cell_type": "code",
   "execution_count": null,
   "metadata": {},
   "outputs": [],
   "source": []
  },
  {
   "cell_type": "code",
   "execution_count": null,
   "metadata": {},
   "outputs": [],
   "source": []
  }
 ],
 "metadata": {
  "kernelspec": {
   "display_name": "Python 3",
   "language": "python",
   "name": "python3"
  },
  "language_info": {
   "codemirror_mode": {
    "name": "ipython",
    "version": 3
   },
   "file_extension": ".py",
   "mimetype": "text/x-python",
   "name": "python",
   "nbconvert_exporter": "python",
   "pygments_lexer": "ipython3",
   "version": "3.7.3"
  }
 },
 "nbformat": 4,
 "nbformat_minor": 2
}
