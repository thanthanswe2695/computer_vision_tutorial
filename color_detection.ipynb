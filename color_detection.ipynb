{
 "cells": [
  {
   "cell_type": "code",
   "execution_count": null,
   "metadata": {},
   "outputs": [],
   "source": [
    "import cv2\n",
    "import numpy as np"
   ]
  },
  {
   "cell_type": "code",
   "execution_count": null,
   "metadata": {},
   "outputs": [],
   "source": [
    "lowerBound=np.array([33,80,40])\n",
    "upperBound=np.array([102,255,255])"
   ]
  },
  {
   "cell_type": "code",
   "execution_count": null,
   "metadata": {},
   "outputs": [],
   "source": [
    "cam=cv2.VideoCapture(0)"
   ]
  },
  {
   "cell_type": "code",
   "execution_count": null,
   "metadata": {},
   "outputs": [],
   "source": [
    "#create a font for the text\n",
    "font = cv2.FONT_HERSHEY_SIMPLEX\n",
    "# font=cv2.cv.InitFont(cv2.FONT_HERSHEY_SIMPLEX,2,0.5,0,3,1)"
   ]
  },
  {
   "cell_type": "code",
   "execution_count": null,
   "metadata": {},
   "outputs": [],
   "source": [
    "#start the main processing\n",
    "##read a frame from the camera\n",
    "ret,img=cam.read()"
   ]
  },
  {
   "cell_type": "code",
   "execution_count": null,
   "metadata": {},
   "outputs": [],
   "source": [
    "#small fixed size for faster processing\n",
    "img=cv2.resize(img,(340,220))"
   ]
  },
  {
   "cell_type": "code",
   "execution_count": null,
   "metadata": {},
   "outputs": [],
   "source": [
    "#convert image to hsv format\n",
    "imgHSV=cv2.cvtColor(img,cv2.COLOR_BGR2HSV)"
   ]
  },
  {
   "cell_type": "code",
   "execution_count": null,
   "metadata": {},
   "outputs": [],
   "source": [
    "#create the mask for green color\n",
    "mask=cv2.inRange(imgHSV,lowerBound,upperBound)"
   ]
  },
  {
   "cell_type": "code",
   "execution_count": null,
   "metadata": {},
   "outputs": [],
   "source": [
    "#Filter the mask\n",
    "\n",
    "kernelOpen=np.ones((5,5))\n",
    "kernelClose=np.ones((20,20))\n",
    "\n",
    "maskOpen=cv2.morphologyEx(mask,cv2.MORPH_OPEN,kernelOpen)\n",
    "maskClose=cv2.morphologyEx(maskOpen,cv2.MORPH_CLOSE,kernelClose)"
   ]
  },
  {
   "cell_type": "code",
   "execution_count": null,
   "metadata": {},
   "outputs": [],
   "source": [
    "#see the results\n",
    "cv2.imshow(\"maskClose\",maskClose)\n",
    "cv2.imshow(\"maskOpen\",maskOpen)\n",
    "cv2.waitKey(0)"
   ]
  },
  {
   "cell_type": "code",
   "execution_count": null,
   "metadata": {},
   "outputs": [],
   "source": [
    "maskFinal=maskClose\n",
    "conts,h=cv2.findContours(maskFinal.copy(),cv2.RETR_EXTERNAL,cv2.CHAIN_APPROX_NONE)\n",
    "cv2.drawContours(img,conts,-1,(255,0,0),3)"
   ]
  },
  {
   "cell_type": "code",
   "execution_count": null,
   "metadata": {},
   "outputs": [],
   "source": [
    "for i in range(len(conts)):\n",
    "    x,y,w,h=cv2.boundingRect(conts[i])\n",
    "    cv2.rectangle(img,(x,y),(x+w,y+h),(0,0,255), 2)\n",
    "    cv2.putText(cv2.cv.fromarray(img), str(i+1),(x,y+h),font,(0,255,255))"
   ]
  },
  {
   "cell_type": "code",
   "execution_count": null,
   "metadata": {},
   "outputs": [],
   "source": [
    "while True:\n",
    "    ret, img=cam.read()\n",
    "    img=cv2.resize(img,(340,220))\n",
    "\n",
    "    #convert BGR to HSV\n",
    "    imgHSV= cv2.cvtColor(img,cv2.COLOR_BGR2HSV)\n",
    "    # create the Mask\n",
    "    mask=cv2.inRange(imgHSV,lowerBound,upperBound)\n",
    "    #morphology\n",
    "    maskOpen=cv2.morphologyEx(mask,cv2.MORPH_OPEN,kernelOpen)\n",
    "    maskClose=cv2.morphologyEx(maskOpen,cv2.MORPH_CLOSE,kernelClose)\n",
    "\n",
    "    maskFinal=maskClose\n",
    "    conts,h=cv2.findContours(maskFinal.copy(),cv2.RETR_EXTERNAL,cv2.CHAIN_APPROX_NONE)\n",
    "\n",
    "    cv2.drawContours(img,conts,-1,(255,0,0),3)\n",
    "    for i in range(len(conts)):\n",
    "        x,y,w,h=cv2.boundingRect(conts[i])\n",
    "        cv2.rectangle(img,(x,y),(x+w,y+h),(0,0,255), 2)\n",
    "        cv2.cv.PutText(cv2.cv.fromarray(img), str(i+1),(x,y+h),font,(0,255,255))\n",
    "    cv2.imshow(\"maskClose\",maskClose)\n",
    "    cv2.imshow(\"maskOpen\",maskOpen)\n",
    "    cv2.imshow(\"mask\",mask)\n",
    "    cv2.imshow(\"cam\",img)\n",
    "    cv2.waitKey(0)"
   ]
  },
  {
   "cell_type": "code",
   "execution_count": null,
   "metadata": {},
   "outputs": [],
   "source": []
  }
 ],
 "metadata": {
  "kernelspec": {
   "display_name": "Python 3",
   "language": "python",
   "name": "python3"
  },
  "language_info": {
   "codemirror_mode": {
    "name": "ipython",
    "version": 3
   },
   "file_extension": ".py",
   "mimetype": "text/x-python",
   "name": "python",
   "nbconvert_exporter": "python",
   "pygments_lexer": "ipython3",
   "version": "3.7.3"
  }
 },
 "nbformat": 4,
 "nbformat_minor": 2
}
