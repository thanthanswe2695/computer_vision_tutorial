{
 "cells": [
  {
   "cell_type": "code",
   "execution_count": null,
   "metadata": {},
   "outputs": [],
   "source": [
    "import cv2\n",
    "import numpy as np"
   ]
  },
  {
   "cell_type": "code",
   "execution_count": null,
   "metadata": {},
   "outputs": [],
   "source": [
    "lowerbound=np.array([33,80,40])\n",
    "upperbound=np.array([102,255,255])"
   ]
  },
  {
   "cell_type": "code",
   "execution_count": null,
   "metadata": {},
   "outputs": [],
   "source": [
    "cam=cv2.VideoCapture(0)\n",
    "kernelOpen=np.ones((5,5))\n",
    "kernelClose=np.ones((20,20))\n",
    "\n",
    "# font=cv2.cv.InitFont(cv2.cv.CV_FONT_HERSHEY_SIMPLEX,2,0.5,0,3,1)\n",
    "font = cv2.FONT_HERSHEY_SIMPLEX\n",
    "while True:\n",
    "    ret,img=cam.read()\n",
    "    img=cv2.resize(img,(340,220))\n",
    "    \n",
    "    #convert BGR to HSV(Hue, Saturation, Value) color\n",
    "    imgHSV=cv2.cvtColor(img,cv2.COLOR_BGR2HSV)\n",
    "    \n",
    "    #create the mask\n",
    "    mask=cv2.inRange(imgHSV,lowerbound,upperbound)\n",
    "    \n",
    "    #morphology\n",
    "    maskopen=cv2.morphologyEx(mask,cv2.MORPH_OPEN,kernelopen)\n",
    "    maskclose=cv2.morphologyEx(maskopen,cv2,MORPH_CLOSE.kernelclose)\n",
    "    \n",
    "    maskFinal=maskclose\n",
    "    conts.h=cv2.findContours(maskFinal.copy(),cv2.RETR_EXTERNAL,cv2.CHAIN_APPROX_NONE)\n",
    "    \n",
    "    cv2.drawContours(img,conts,-1,(255,0,0),3)\n",
    "    for i in range(len(conts)):\n",
    "        x,y,w,h=cv2.boundingRect(conts[i])\n",
    "        cv2.rectangle(img,(x,y),(x+w,y+h),(0,0,255),2)\n",
    "        cv2.cv.PutText(cv2.cv.fromarray(img),str(i+1),(x+y+h),font,(0,255,255))\n",
    "    \n",
    "    cv2.imshow(\"maskclose\",maskclose)\n",
    "    cv2.imshow(\"maskclose\",maskclose)\n",
    "    cv2.imshow(\"maskclose\",maskclose)\n",
    "    cv2.imshow(\"maskclose\",maskclose)\n",
    "    cv2.waitKey(10)"
   ]
  },
  {
   "cell_type": "markdown",
   "metadata": {},
   "source": [
    "#### virtual mouse with gesture recognition"
   ]
  },
  {
   "cell_type": "code",
   "execution_count": null,
   "metadata": {},
   "outputs": [],
   "source": [
    "import cv2\n",
    "import numpy as np\n",
    "from pynput.mouse import Button,Controller\n",
    "import wx"
   ]
  },
  {
   "cell_type": "markdown",
   "metadata": {},
   "source": [
    "##### global variables setup"
   ]
  },
  {
   "cell_type": "code",
   "execution_count": null,
   "metadata": {},
   "outputs": [],
   "source": [
    "mouse=Controller()\n",
    "app=wx.App(False)\n",
    "(sx,sy)=wx.GetDisplaySize()\n",
    "(camx,camy)=(320,240)"
   ]
  },
  {
   "cell_type": "code",
   "execution_count": null,
   "metadata": {},
   "outputs": [],
   "source": [
    "while True:\n",
    "    ret,img=cam.read()\n",
    "    img=cv2.resize(img,(camx,camy))\n",
    "    \n",
    "    #Convert BGR to HSV\n",
    "    imgHSV=cv2.cvtColor(img,cv2.COLOR_BGR2HSV)\n",
    "    #create the mask\n",
    "    mask=cv2.inRange(imgHSV,lowerbound,upperbound)\n",
    "    #morphology\n",
    "    maskopen=cv2.morphologyEx(mask,cv2.MORPH_OPEN,kernelOpen)\n",
    "    maskclose=cv2.morphologyEx(maskopen,cv2.MORPH_CLOSE,kernelClose)\n",
    "\n",
    "    maskFinal=maskclose\n",
    "    conts,h=cv2.findContours(maskFinal.copy(),cv2.RETR_EXTERNAL,cv2.CHAIN_APPROX_NONE)"
   ]
  },
  {
   "cell_type": "code",
   "execution_count": null,
   "metadata": {},
   "outputs": [],
   "source": []
  }
 ],
 "metadata": {
  "kernelspec": {
   "display_name": "Python 3",
   "language": "python",
   "name": "python3"
  },
  "language_info": {
   "codemirror_mode": {
    "name": "ipython",
    "version": 3
   },
   "file_extension": ".py",
   "mimetype": "text/x-python",
   "name": "python",
   "nbconvert_exporter": "python",
   "pygments_lexer": "ipython3",
   "version": "3.7.3"
  }
 },
 "nbformat": 4,
 "nbformat_minor": 2
}
